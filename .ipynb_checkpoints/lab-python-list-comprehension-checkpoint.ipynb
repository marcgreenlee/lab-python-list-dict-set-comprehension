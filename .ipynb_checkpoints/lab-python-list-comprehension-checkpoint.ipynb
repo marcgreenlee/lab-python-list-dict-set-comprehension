{
 "cells": [
  {
   "cell_type": "markdown",
   "id": "25d7736c-ba17-4aff-b6bb-66eba20fbf4e",
   "metadata": {},
   "source": [
    "# Lab | List, Dict and Set Comprehension"
   ]
  },
  {
   "cell_type": "markdown",
   "id": "7dd3cbde-675a-4b81-92c3-f728846dbe06",
   "metadata": {},
   "source": [
    "## Exercise: Managing Customer Orders Optimized with Comprehension"
   ]
  },
  {
   "cell_type": "markdown",
   "id": "5d500160-2fb7-4777-b5e4-09d45ebaf328",
   "metadata": {},
   "source": [
    "In the previous exercise, you developed a program to manage customer orders and inventory. Now, let's take it a step further and incorporate comprehension into your code.\n",
    "\n",
    "Follow the steps below to complete the exercise:\n",
    "\n",
    "1. Review your code from the previous exercise and identify areas where you can apply comprehension to simplify and streamline your code. \n",
    "\n",
    "    - *Hint: Apply it to initialize inventory, updating the inventory and printing the updated inventory.*\n",
    "    \n",
    "    - For example, in initializing the inventory, we could have:\n",
    "    \n",
    "        ```python\n",
    "        def initialize_inventory(products):\n",
    "            inventory = {product: int(input(f\"Enter the quantity of {product}s available: \")) for product in products}\n",
    "            return inventory\n",
    "\n",
    "        ```\n",
    "<br>\n",
    "    \n",
    "    \n",
    "2. Modify the function get_customer_orders so it prompts the user to enter the number of customer orders and gathers the product names using a loop and user input. Use comprehension.\n",
    "\n",
    "3. Add a new function to calculate the total price of the customer order. For each product in customer_orders, prompt the user to enter the price of that product. Use comprehension to calculate the total price. Note: assume that the user can only have 1 unit of each product.\n",
    "\n",
    "4. Modify the update_inventory function to remove the product from the inventory if its quantity becomes zero after fulfilling the customer orders. Use comprehension to filter out the products with a quantity of zero from the inventory.\n",
    "\n",
    "5. Print the total price of the customer order.\n",
    "\n",
    "Your code should produce output similar to the following:\n",
    "\n",
    "```python\n",
    "Enter the quantity of t-shirts available:  5\n",
    "Enter the quantity of mugs available:  4\n",
    "Enter the quantity of hats available:  3\n",
    "Enter the quantity of books available:  2\n",
    "Enter the quantity of keychains available:  1\n",
    "Enter the number of customer orders:  2\n",
    "Enter the name of a product that a customer wants to order:  hat\n",
    "Enter the name of a product that a customer wants to order:  keychain\n",
    "\n",
    "Order Statistics:\n",
    "Total Products Ordered: 2\n",
    "Percentage of Unique Products Ordered: 40.0\n",
    "\n",
    "Updated Inventory:\n",
    "t-shirt: 5\n",
    "mug: 4\n",
    "hat: 2\n",
    "book: 2\n",
    "Enter the price of keychain:  5\n",
    "Enter the price of hat:  10\n",
    "Total Price: 15.0\n",
    "\n",
    "```\n"
   ]
  },
  {
   "cell_type": "code",
   "execution_count": 22,
   "id": "b4432cdd-adda-4e19-ab31-77f9917548d6",
   "metadata": {},
   "outputs": [
    {
     "name": "stdin",
     "output_type": "stream",
     "text": [
      "please input the quantity of t-shirt available:  3\n",
      "please input the quantity of mug available:  2\n",
      "please input the quantity of hat available:  3\n",
      "please input the quantity of book available:  4\n",
      "please input the quantity of keychain available:  3\n"
     ]
    },
    {
     "data": {
      "text/plain": [
       "{'t-shirt': 3, 'mug': 2, 'hat': 3, 'book': 4, 'keychain': 3}"
      ]
     },
     "execution_count": 22,
     "metadata": {},
     "output_type": "execute_result"
    }
   ],
   "source": [
    "# initialize inventory using loops\n",
    "\n",
    "products = [\"t-shirt\", \"mug\", \"hat\", \"book\", \"keychain\"]\n",
    "def initialize_inventory(products):\n",
    "    for product in products:\n",
    "        quantity = int(input(f\"please input the quantity of {product} available: \"))\n",
    "        inventory [product] = quantity\n",
    "    return(inventory)\n",
    "\n",
    "initialize_inventory(products)\n",
    "    "
   ]
  },
  {
   "cell_type": "code",
   "execution_count": 28,
   "id": "e52fd634-9752-49ca-93a6-4bc8d07b50b0",
   "metadata": {},
   "outputs": [
    {
     "name": "stdin",
     "output_type": "stream",
     "text": [
      "please enter the available quantity of t-shirt:  2\n",
      "please enter the available quantity of mug:  3\n",
      "please enter the available quantity of hat:  2\n",
      "please enter the available quantity of book:  5\n",
      "please enter the available quantity of keychain:  4\n"
     ]
    },
    {
     "data": {
      "text/plain": [
       "{'t-shirt': 2, 'mug': 3, 'hat': 2, 'book': 5, 'keychain': 4}"
      ]
     },
     "execution_count": 28,
     "metadata": {},
     "output_type": "execute_result"
    }
   ],
   "source": [
    "#initialize inventory using comprehension\n",
    "\n",
    "def initialize_inventory(products):\n",
    "    inventory = {product: int(input(f\"please enter the available quantity of {product}: \")) for product in products}\n",
    "    return inventory\n",
    "\n",
    "initialize_inventory(products)"
   ]
  },
  {
   "cell_type": "code",
   "execution_count": null,
   "id": "14b1104d-f0cf-4c0b-965c-8fb38ac83103",
   "metadata": {},
   "outputs": [],
   "source": [
    "# update inventory using loops\n",
    "customer_orders = set()\n",
    "\n",
    "def update_inventory(customer_orders, inventory):\n",
    "    print(\"Inventory before customer purchase: \",inventory)\n",
    "\n",
    "    for product in customer_orders:\n",
    "        if product in inventory and inventory[product] > 0:\n",
    "            inventory [product] -= 1\n",
    "\n",
    "    print(\"Inventory after customer purchase: \",inventory)\n",
    "\n",
    "update_inventory(customer_orders, inventory)\n",
    "    "
   ]
  },
  {
   "cell_type": "code",
   "execution_count": 52,
   "id": "42610f51-aabe-443a-b2e7-3d2c72b4de60",
   "metadata": {},
   "outputs": [
    {
     "data": {
      "text/plain": [
       "{'t-shirt': 3, 'mug': 2, 'hat': 1, 'book': 4, 'keychain': 3}"
      ]
     },
     "execution_count": 52,
     "metadata": {},
     "output_type": "execute_result"
    }
   ],
   "source": [
    "#update inventory using comprehension\n",
    "customer_orders = set()\n",
    "\n",
    "def update_inventory(customer_orders, inventory): \n",
    "    updated_inventory = {product: (inventory[product] - customer_orders.count(product)\n",
    "                                   if product in customer_orders and inventory[product] > 0 else inventory[product])\n",
    "                         for product in inventory}\n",
    "    return updated_inventory\n",
    "\n",
    "update_inventory(customer_orders, inventory)"
   ]
  },
  {
   "cell_type": "code",
   "execution_count": null,
   "id": "6e90f05b-e477-48cc-a677-66e31bcc35b2",
   "metadata": {},
   "outputs": [],
   "source": [
    "#print updated inventory using loops\n",
    "\n",
    "def print_updated_inventory(inventory):\n",
    "    print(\"Inventory before customer purchase: \",inventory)\n",
    "\n",
    "    for product in customer_orders:\n",
    "        if product in inventory and inventory[product] > 0:\n",
    "            inventory [product] -= 1\n",
    "\n",
    "    print(\"Inventory after customer purchase: \",inventory)\n",
    "\n",
    "print_updated_inventory(inventory)\n",
    "    "
   ]
  },
  {
   "cell_type": "code",
   "execution_count": 54,
   "id": "012c48ac-b76c-495b-a8da-ab141b7ffb4b",
   "metadata": {},
   "outputs": [
    {
     "name": "stdout",
     "output_type": "stream",
     "text": [
      "inventory before customer purchase:  {'t-shirt': 3, 'mug': 2, 'hat': 1, 'book': 4, 'keychain': 3}\n",
      "updated inventory:  {'t-shirt': 3, 'mug': 2, 'hat': 1, 'book': 4, 'keychain': 3}\n"
     ]
    }
   ],
   "source": [
    "#print updated inventory using comprehension\n",
    "\n",
    "def print_updated_inventory(inventory):\n",
    "    print(\"inventory before customer purchase: \", inventory)\n",
    "\n",
    "    updated_inventory = {product: (inventory[product] - customer_orders.count(product)\n",
    "                                   if product in customer_orders and inventory[product] > 0 else inventory[product])\n",
    "                         for product in inventory}\n",
    "\n",
    "    print(\"updated inventory: \",inventory)\n",
    "\n",
    "print_updated_inventory(inventory)"
   ]
  },
  {
   "cell_type": "code",
   "execution_count": null,
   "id": "f72fc1cd-af0b-42eb-90e3-a6603b9f6fb6",
   "metadata": {},
   "outputs": [],
   "source": [
    "#get_customer_orders function\n",
    "\n",
    "customer_orders = set()\n",
    "\n",
    "def get_customer_orders():\n",
    "    new_order = input(\"Please enter the product a customer wants to order: \")\n",
    "    customer_orders.add(new_order)\n",
    "\n",
    "    while True:\n",
    "        new_product = input(\"do you want to add a new product?\")\n",
    "    \n",
    "        if new_product == \"yes\":\n",
    "            new_order = input(\"Please enter the product a customer wants to order: \")\n",
    "            customer_orders.add(new_order)\n",
    "        \n",
    "        elif new_product == \"no\":\n",
    "            print(\"the customer order list is\", customer_orders)\n",
    "            break \n",
    "\n",
    "        else: \n",
    "            print(\"please enter a valid response: yes or no\")\n",
    "\n",
    "    return customer_orders\n",
    "\n",
    "get_customer_orders()"
   ]
  },
  {
   "cell_type": "code",
   "execution_count": 167,
   "id": "ab9083f2-a7a1-4b28-acc5-ba888a7bf999",
   "metadata": {},
   "outputs": [
    {
     "name": "stdout",
     "output_type": "stream",
     "text": [
      "the list of orders is:\n"
     ]
    },
    {
     "name": "stdin",
     "output_type": "stream",
     "text": [
      "Please enter the number of customer orders:  2\n",
      "please enter the name of product number 1:  mug\n",
      "please enter the name of product number 2:  book\n"
     ]
    },
    {
     "data": {
      "text/plain": [
       "{'book', 'mug'}"
      ]
     },
     "execution_count": 167,
     "metadata": {},
     "output_type": "execute_result"
    }
   ],
   "source": [
    "#Modify the function get_customer_orders so it prompts the user to enter the number of customer orders\n",
    "#and gathers the product names using a loop and user input. Use comprehension.\n",
    "#updated get_customer_orders function\n",
    "\n",
    "def get_customer_orders():\n",
    "    number_of_orders = int(input(\"Please enter the number of customer orders: \"))\n",
    "\n",
    "    customer_orders = {input(f\"please enter the name of product number {i+1}: \") for i in range(number_of_orders)}\n",
    "    \n",
    "\n",
    "    return customer_orders\n",
    "    \n",
    "print(\"the list of orders is:\")\n",
    "\n",
    "get_customer_orders()\n",
    "    "
   ]
  },
  {
   "cell_type": "code",
   "execution_count": 203,
   "id": "9f6d9bd1-bc04-40dd-a318-3d2ab7f077cd",
   "metadata": {},
   "outputs": [
    {
     "name": "stdin",
     "output_type": "stream",
     "text": [
      "Please enter the number of customer orders:  2\n",
      "please enter the name of product number 1:  mug\n",
      "please enter the name of product number 2:  book\n",
      "please enter the price of book:  3\n",
      "please enter the price of mug:  6\n"
     ]
    },
    {
     "name": "stdout",
     "output_type": "stream",
     "text": [
      "the total price of the order is:  9\n"
     ]
    }
   ],
   "source": [
    "#Add a new function to calculate the total price of the customer order. For each product in customer_orders, \n",
    "#prompt the user to enter the price of that product. Use comprehension to calculate the total price.\n",
    "#Note: assume that the user can only have 1 unit of each product.\n",
    "\n",
    "def total_price(orders):\n",
    "    \n",
    "    total_price = (sum(int(input(f\"please enter the price of {product}: \")) for product in orders))\n",
    "    return total_price\n",
    "\n",
    "orders = get_customer_orders()\n",
    "\n",
    "print(\"the total price of the order is: \",total_price(orders))\n"
   ]
  },
  {
   "cell_type": "code",
   "execution_count": 201,
   "id": "c69a7909-de08-464d-b77c-340e186af4bd",
   "metadata": {},
   "outputs": [
    {
     "name": "stdout",
     "output_type": "stream",
     "text": [
      "{'t-shirt': 3, 'mug': 2, 'hat': 1, 'book': 4, 'keychain': 3}\n"
     ]
    }
   ],
   "source": [
    "#update inventory using comprehension\n",
    "customer_orders = set()\n",
    "\n",
    "def update_inventory(customer_orders, inventory): \n",
    "    updated_inventory = {product: (inventory[product] - customer_orders.count(product)\n",
    "                                   if product in customer_orders and inventory[product] > 0 else inventory[product])\n",
    "                         for product in inventory}\n",
    "\n",
    "    filtered_inventory = dict(filter(lambda item: item[1] > 0, updated_inventory.items()))\n",
    "\n",
    "    return filtered_inventory\n",
    "\n",
    "print(update_inventory(customer_orders, inventory))"
   ]
  },
  {
   "cell_type": "code",
   "execution_count": null,
   "id": "fe033543-18cd-4bc4-9e3f-85751a95134d",
   "metadata": {},
   "outputs": [],
   "source": [
    "\n"
   ]
  },
  {
   "cell_type": "code",
   "execution_count": null,
   "id": "67913438-22b5-4d58-818e-f6c0703742fc",
   "metadata": {},
   "outputs": [],
   "source": []
  }
 ],
 "metadata": {
  "kernelspec": {
   "display_name": "Python 3 (ipykernel)",
   "language": "python",
   "name": "python3"
  },
  "language_info": {
   "codemirror_mode": {
    "name": "ipython",
    "version": 3
   },
   "file_extension": ".py",
   "mimetype": "text/x-python",
   "name": "python",
   "nbconvert_exporter": "python",
   "pygments_lexer": "ipython3",
   "version": "3.12.4"
  }
 },
 "nbformat": 4,
 "nbformat_minor": 5
}
